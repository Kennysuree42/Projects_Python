{
 "cells": [
  {
   "cell_type": "code",
   "execution_count": 212,
   "id": "dfa036bd",
   "metadata": {},
   "outputs": [],
   "source": [
    "# importing required libraries\n",
    "import numpy as np\n",
    "import pandas as pd\n",
    "import matplotlib.pyplot as plt\n",
    "import seaborn as sns\n",
    "import warnings"
   ]
  },
  {
   "cell_type": "markdown",
   "id": "05f9d047",
   "metadata": {},
   "source": [
    "# Data Cleaning \n",
    "\n",
    "#  is also known as Data Preparation\n",
    "\n",
    " - One of the primary purposes of data preparation is to ensure raw data being readied for processing and analysis is accurate and consistent so the results of Business Intelligence(BI) and Analytics applications.\n",
    " - Data is commonly created with missing values, inaccuracies or other errors.\n",
    " - Correcting data errors, validating data quality and consolidating data sets are big parts of data preparation projects.\n",
    " - Data preparation also involves finding relevant data to ensure that analytics applications deliver meaningful information and actionable insights for business decision-making.\n",
    " - For example, by blending internal and external data sets, creating new data fields, eliminating outlier values can work a lot."
   ]
  },
  {
   "cell_type": "markdown",
   "id": "11080df7",
   "metadata": {},
   "source": [
    "### Data Reading & Data Types "
   ]
  },
  {
   "cell_type": "code",
   "execution_count": 114,
   "id": "39a95623",
   "metadata": {},
   "outputs": [],
   "source": [
    "#Read the data in pandas\n",
    "\n",
    "inp0= pd.read_csv(r\"C:\\Users\\HP\\Desktop\\PRO Attri\\Attribute DataSet.csv\")\n",
    "\n",
    "inp1= pd.read_csv(r\"C:\\Users\\HP\\Desktop\\PRO Attri\\dress sales.csv\")"
   ]
  },
  {
   "cell_type": "markdown",
   "id": "3b9f1465",
   "metadata": {},
   "source": [
    "You have “Attribute DataSet” which contains a column named “Price”. Choose the correct statement from the following about its data type and variable type.\n",
    "- Integer type and numerical variable\n",
    "- Object type and categorical ordinal variable\n",
    "- Object type and categorical nominal variable\n",
    "- Float type and categorical variable.\n",
    "\n",
    "\n",
    "            - Answer\n",
    "- Integer type and numerical variable"
   ]
  },
  {
   "cell_type": "markdown",
   "id": "aee0c461",
   "metadata": {},
   "source": [
    "There is another column in “Attribute DataSet” named as “Recommendation”, choose the correct statement about its data type and variable type.\n",
    "- Integer type and categorical\n",
    "- Object type and categorical\n",
    "- Integer type and continuous numerical\n",
    "- Object type only.\n",
    "\n",
    "\n",
    "\n",
    "                   -Answer\n",
    "        - Integer type and categorical"
   ]
  },
  {
   "cell_type": "markdown",
   "id": "7b0dbe9a",
   "metadata": {},
   "source": [
    "Which of the following column do you think are of no use in “Attribute DataSet”.\n",
    "\n",
    "Dress_ID\n",
    "Price\n",
    "Size and material\n",
    "NeckLine\n",
    "None of the above\n",
    "\n",
    "               - Answer\n",
    "      - None of the above\n",
    "     - Dress_ID with this column we can uniquely identify the dress\n",
    "     - Price is also important column\n",
    "     - Size and material columns are also matter ,because they differentiates the    dresses\n",
    "     - Neckline column helps which type of Design we stitched the dress."
   ]
  },
  {
   "cell_type": "markdown",
   "id": "4a8a3218",
   "metadata": {},
   "source": [
    "# Print the information about the attributes of inp0 and inp1."
   ]
  },
  {
   "cell_type": "code",
   "execution_count": 115,
   "id": "85d1a25d",
   "metadata": {},
   "outputs": [
    {
     "data": {
      "text/html": [
       "<div>\n",
       "<style scoped>\n",
       "    .dataframe tbody tr th:only-of-type {\n",
       "        vertical-align: middle;\n",
       "    }\n",
       "\n",
       "    .dataframe tbody tr th {\n",
       "        vertical-align: top;\n",
       "    }\n",
       "\n",
       "    .dataframe thead th {\n",
       "        text-align: right;\n",
       "    }\n",
       "</style>\n",
       "<table border=\"1\" class=\"dataframe\">\n",
       "  <thead>\n",
       "    <tr style=\"text-align: right;\">\n",
       "      <th></th>\n",
       "      <th>Dress_ID</th>\n",
       "      <th>Style</th>\n",
       "      <th>Price</th>\n",
       "      <th>Rating</th>\n",
       "      <th>Size</th>\n",
       "      <th>Season</th>\n",
       "      <th>NeckLine</th>\n",
       "      <th>SleeveLength</th>\n",
       "      <th>Material</th>\n",
       "      <th>FabricType</th>\n",
       "      <th>Decoration</th>\n",
       "      <th>Pattern Type</th>\n",
       "      <th>Recommendation</th>\n",
       "    </tr>\n",
       "  </thead>\n",
       "  <tbody>\n",
       "    <tr>\n",
       "      <th>0</th>\n",
       "      <td>1006032852</td>\n",
       "      <td>Sexy</td>\n",
       "      <td>Low</td>\n",
       "      <td>4.6</td>\n",
       "      <td>M</td>\n",
       "      <td>Summer</td>\n",
       "      <td>o-neck</td>\n",
       "      <td>sleevless</td>\n",
       "      <td>NaN</td>\n",
       "      <td>chiffon</td>\n",
       "      <td>ruffles</td>\n",
       "      <td>animal</td>\n",
       "      <td>1</td>\n",
       "    </tr>\n",
       "    <tr>\n",
       "      <th>1</th>\n",
       "      <td>1212192089</td>\n",
       "      <td>Casual</td>\n",
       "      <td>Low</td>\n",
       "      <td>0.0</td>\n",
       "      <td>L</td>\n",
       "      <td>Summer</td>\n",
       "      <td>o-neck</td>\n",
       "      <td>Petal</td>\n",
       "      <td>microfiber</td>\n",
       "      <td>NaN</td>\n",
       "      <td>ruffles</td>\n",
       "      <td>animal</td>\n",
       "      <td>0</td>\n",
       "    </tr>\n",
       "    <tr>\n",
       "      <th>2</th>\n",
       "      <td>1190380701</td>\n",
       "      <td>vintage</td>\n",
       "      <td>High</td>\n",
       "      <td>0.0</td>\n",
       "      <td>L</td>\n",
       "      <td>Automn</td>\n",
       "      <td>o-neck</td>\n",
       "      <td>full</td>\n",
       "      <td>polyster</td>\n",
       "      <td>NaN</td>\n",
       "      <td>NaN</td>\n",
       "      <td>print</td>\n",
       "      <td>0</td>\n",
       "    </tr>\n",
       "    <tr>\n",
       "      <th>3</th>\n",
       "      <td>966005983</td>\n",
       "      <td>Brief</td>\n",
       "      <td>Average</td>\n",
       "      <td>4.6</td>\n",
       "      <td>L</td>\n",
       "      <td>Spring</td>\n",
       "      <td>o-neck</td>\n",
       "      <td>full</td>\n",
       "      <td>silk</td>\n",
       "      <td>chiffon</td>\n",
       "      <td>embroidary</td>\n",
       "      <td>print</td>\n",
       "      <td>1</td>\n",
       "    </tr>\n",
       "    <tr>\n",
       "      <th>4</th>\n",
       "      <td>876339541</td>\n",
       "      <td>cute</td>\n",
       "      <td>Low</td>\n",
       "      <td>4.5</td>\n",
       "      <td>M</td>\n",
       "      <td>Summer</td>\n",
       "      <td>o-neck</td>\n",
       "      <td>butterfly</td>\n",
       "      <td>chiffonfabric</td>\n",
       "      <td>chiffon</td>\n",
       "      <td>bow</td>\n",
       "      <td>dot</td>\n",
       "      <td>0</td>\n",
       "    </tr>\n",
       "  </tbody>\n",
       "</table>\n",
       "</div>"
      ],
      "text/plain": [
       "     Dress_ID    Style    Price  Rating Size  Season NeckLine SleeveLength  \\\n",
       "0  1006032852     Sexy      Low     4.6    M  Summer   o-neck    sleevless   \n",
       "1  1212192089   Casual      Low     0.0    L  Summer   o-neck        Petal   \n",
       "2  1190380701  vintage     High     0.0    L  Automn   o-neck         full   \n",
       "3   966005983    Brief  Average     4.6    L  Spring   o-neck         full   \n",
       "4   876339541     cute      Low     4.5    M  Summer   o-neck    butterfly   \n",
       "\n",
       "        Material FabricType  Decoration Pattern Type  Recommendation  \n",
       "0            NaN    chiffon     ruffles       animal               1  \n",
       "1     microfiber        NaN     ruffles       animal               0  \n",
       "2       polyster        NaN         NaN        print               0  \n",
       "3           silk    chiffon  embroidary        print               1  \n",
       "4  chiffonfabric    chiffon         bow          dot               0  "
      ]
     },
     "execution_count": 115,
     "metadata": {},
     "output_type": "execute_result"
    }
   ],
   "source": [
    "# Attributes Dataset\n",
    "\n",
    "inp0.head()"
   ]
  },
  {
   "cell_type": "code",
   "execution_count": 116,
   "id": "0e4ef7ed",
   "metadata": {},
   "outputs": [
    {
     "data": {
      "text/html": [
       "<div>\n",
       "<style scoped>\n",
       "    .dataframe tbody tr th:only-of-type {\n",
       "        vertical-align: middle;\n",
       "    }\n",
       "\n",
       "    .dataframe tbody tr th {\n",
       "        vertical-align: top;\n",
       "    }\n",
       "\n",
       "    .dataframe thead th {\n",
       "        text-align: right;\n",
       "    }\n",
       "</style>\n",
       "<table border=\"1\" class=\"dataframe\">\n",
       "  <thead>\n",
       "    <tr style=\"text-align: right;\">\n",
       "      <th></th>\n",
       "      <th>Dress_ID</th>\n",
       "      <th>29-08-13</th>\n",
       "      <th>31-08-13</th>\n",
       "      <th>09-02-13</th>\n",
       "      <th>09-04-13</th>\n",
       "      <th>09-06-13</th>\n",
       "      <th>09-08-13</th>\n",
       "      <th>09-10-13</th>\n",
       "      <th>09-12-13</th>\n",
       "      <th>14-09-13</th>\n",
       "      <th>...</th>\n",
       "      <th>24-09-13</th>\n",
       "      <th>26-09-13</th>\n",
       "      <th>28-09-13</th>\n",
       "      <th>30-09-13</th>\n",
       "      <th>10-02-13</th>\n",
       "      <th>10-04-13</th>\n",
       "      <th>10-06-13</th>\n",
       "      <th>10-08-13</th>\n",
       "      <th>10-10-13</th>\n",
       "      <th>10-12-13</th>\n",
       "    </tr>\n",
       "  </thead>\n",
       "  <tbody>\n",
       "    <tr>\n",
       "      <th>0</th>\n",
       "      <td>1006032852</td>\n",
       "      <td>2114</td>\n",
       "      <td>2274</td>\n",
       "      <td>2491</td>\n",
       "      <td>2660</td>\n",
       "      <td>2727</td>\n",
       "      <td>2887</td>\n",
       "      <td>2930</td>\n",
       "      <td>3119</td>\n",
       "      <td>3204</td>\n",
       "      <td>...</td>\n",
       "      <td>3554</td>\n",
       "      <td>3624.0</td>\n",
       "      <td>3706</td>\n",
       "      <td>3746.0</td>\n",
       "      <td>3795.0</td>\n",
       "      <td>3832.0</td>\n",
       "      <td>3897</td>\n",
       "      <td>3923.0</td>\n",
       "      <td>3985.0</td>\n",
       "      <td>4048</td>\n",
       "    </tr>\n",
       "    <tr>\n",
       "      <th>1</th>\n",
       "      <td>1212192089</td>\n",
       "      <td>151</td>\n",
       "      <td>275</td>\n",
       "      <td>570</td>\n",
       "      <td>750</td>\n",
       "      <td>813</td>\n",
       "      <td>1066</td>\n",
       "      <td>1164</td>\n",
       "      <td>1558</td>\n",
       "      <td>1756</td>\n",
       "      <td>...</td>\n",
       "      <td>2710</td>\n",
       "      <td>2942.0</td>\n",
       "      <td>3258</td>\n",
       "      <td>3354.0</td>\n",
       "      <td>3475.0</td>\n",
       "      <td>3654.0</td>\n",
       "      <td>3911</td>\n",
       "      <td>4024.0</td>\n",
       "      <td>4125.0</td>\n",
       "      <td>4277</td>\n",
       "    </tr>\n",
       "    <tr>\n",
       "      <th>2</th>\n",
       "      <td>1190380701</td>\n",
       "      <td>6</td>\n",
       "      <td>7</td>\n",
       "      <td>7</td>\n",
       "      <td>7</td>\n",
       "      <td>8</td>\n",
       "      <td>8</td>\n",
       "      <td>9</td>\n",
       "      <td>10</td>\n",
       "      <td>10</td>\n",
       "      <td>...</td>\n",
       "      <td>11</td>\n",
       "      <td>11.0</td>\n",
       "      <td>11</td>\n",
       "      <td>11.0</td>\n",
       "      <td>11.0</td>\n",
       "      <td>11.0</td>\n",
       "      <td>11</td>\n",
       "      <td>11.0</td>\n",
       "      <td>11.0</td>\n",
       "      <td>11</td>\n",
       "    </tr>\n",
       "    <tr>\n",
       "      <th>3</th>\n",
       "      <td>966005983</td>\n",
       "      <td>1005</td>\n",
       "      <td>1128</td>\n",
       "      <td>1326</td>\n",
       "      <td>1455</td>\n",
       "      <td>1507</td>\n",
       "      <td>1621</td>\n",
       "      <td>1637</td>\n",
       "      <td>1723</td>\n",
       "      <td>1746</td>\n",
       "      <td>...</td>\n",
       "      <td>1878</td>\n",
       "      <td>1892.0</td>\n",
       "      <td>1914</td>\n",
       "      <td>1924.0</td>\n",
       "      <td>1929.0</td>\n",
       "      <td>1941.0</td>\n",
       "      <td>1952</td>\n",
       "      <td>1955.0</td>\n",
       "      <td>1959.0</td>\n",
       "      <td>1963</td>\n",
       "    </tr>\n",
       "    <tr>\n",
       "      <th>4</th>\n",
       "      <td>876339541</td>\n",
       "      <td>996</td>\n",
       "      <td>1175</td>\n",
       "      <td>1304</td>\n",
       "      <td>1396</td>\n",
       "      <td>1432</td>\n",
       "      <td>1559</td>\n",
       "      <td>1570</td>\n",
       "      <td>1638</td>\n",
       "      <td>1655</td>\n",
       "      <td>...</td>\n",
       "      <td>2032</td>\n",
       "      <td>2156.0</td>\n",
       "      <td>2252</td>\n",
       "      <td>2312.0</td>\n",
       "      <td>2387.0</td>\n",
       "      <td>2459.0</td>\n",
       "      <td>2544</td>\n",
       "      <td>2614.0</td>\n",
       "      <td>2693.0</td>\n",
       "      <td>2736</td>\n",
       "    </tr>\n",
       "  </tbody>\n",
       "</table>\n",
       "<p>5 rows × 24 columns</p>\n",
       "</div>"
      ],
      "text/plain": [
       "     Dress_ID  29-08-13  31-08-13  09-02-13  09-04-13  09-06-13  09-08-13  \\\n",
       "0  1006032852      2114      2274      2491      2660      2727      2887   \n",
       "1  1212192089       151       275       570       750       813      1066   \n",
       "2  1190380701         6         7         7         7         8         8   \n",
       "3   966005983      1005      1128      1326      1455      1507      1621   \n",
       "4   876339541       996      1175      1304      1396      1432      1559   \n",
       "\n",
       "   09-10-13 09-12-13 14-09-13  ... 24-09-13 26-09-13 28-09-13 30-09-13  \\\n",
       "0      2930     3119     3204  ...     3554   3624.0     3706   3746.0   \n",
       "1      1164     1558     1756  ...     2710   2942.0     3258   3354.0   \n",
       "2         9       10       10  ...       11     11.0       11     11.0   \n",
       "3      1637     1723     1746  ...     1878   1892.0     1914   1924.0   \n",
       "4      1570     1638     1655  ...     2032   2156.0     2252   2312.0   \n",
       "\n",
       "   10-02-13  10-04-13  10-06-13  10-08-13  10-10-13  10-12-13  \n",
       "0    3795.0    3832.0      3897    3923.0    3985.0      4048  \n",
       "1    3475.0    3654.0      3911    4024.0    4125.0      4277  \n",
       "2      11.0      11.0        11      11.0      11.0        11  \n",
       "3    1929.0    1941.0      1952    1955.0    1959.0      1963  \n",
       "4    2387.0    2459.0      2544    2614.0    2693.0      2736  \n",
       "\n",
       "[5 rows x 24 columns]"
      ]
     },
     "execution_count": 116,
     "metadata": {},
     "output_type": "execute_result"
    }
   ],
   "source": [
    "#  Dress Sales\n",
    "\n",
    "inp1.head()"
   ]
  },
  {
   "cell_type": "code",
   "execution_count": 117,
   "id": "6dac6206",
   "metadata": {},
   "outputs": [
    {
     "name": "stdout",
     "output_type": "stream",
     "text": [
      "<class 'pandas.core.frame.DataFrame'>\n",
      "RangeIndex: 479 entries, 0 to 478\n",
      "Data columns (total 13 columns):\n",
      " #   Column          Non-Null Count  Dtype  \n",
      "---  ------          --------------  -----  \n",
      " 0   Dress_ID        479 non-null    int64  \n",
      " 1   Style           479 non-null    object \n",
      " 2   Price           477 non-null    object \n",
      " 3   Rating          479 non-null    float64\n",
      " 4   Size            479 non-null    object \n",
      " 5   Season          477 non-null    object \n",
      " 6   NeckLine        476 non-null    object \n",
      " 7   SleeveLength    477 non-null    object \n",
      " 8   Material        360 non-null    object \n",
      " 9   FabricType      223 non-null    object \n",
      " 10  Decoration      255 non-null    object \n",
      " 11  Pattern Type    377 non-null    object \n",
      " 12  Recommendation  479 non-null    int64  \n",
      "dtypes: float64(1), int64(2), object(10)\n",
      "memory usage: 48.8+ KB\n",
      "<class 'pandas.core.frame.DataFrame'>\n",
      "RangeIndex: 479 entries, 0 to 478\n",
      "Data columns (total 24 columns):\n",
      " #   Column    Non-Null Count  Dtype  \n",
      "---  ------    --------------  -----  \n",
      " 0   Dress_ID  479 non-null    int64  \n",
      " 1   29-08-13  479 non-null    int64  \n",
      " 2   31-08-13  479 non-null    int64  \n",
      " 3   09-02-13  479 non-null    int64  \n",
      " 4   09-04-13  479 non-null    int64  \n",
      " 5   09-06-13  479 non-null    int64  \n",
      " 6   09-08-13  479 non-null    int64  \n",
      " 7   09-10-13  479 non-null    int64  \n",
      " 8   09-12-13  479 non-null    object \n",
      " 9   14-09-13  479 non-null    object \n",
      " 10  16-09-13  479 non-null    object \n",
      " 11  18-09-13  479 non-null    object \n",
      " 12  20-09-13  479 non-null    object \n",
      " 13  22-09-13  479 non-null    object \n",
      " 14  24-09-13  479 non-null    int64  \n",
      " 15  26-09-13  257 non-null    float64\n",
      " 16  28-09-13  479 non-null    int64  \n",
      " 17  30-09-13  222 non-null    float64\n",
      " 18  10-02-13  220 non-null    float64\n",
      " 19  10-04-13  221 non-null    float64\n",
      " 20  10-06-13  479 non-null    int64  \n",
      " 21  10-08-13  224 non-null    float64\n",
      " 22  10-10-13  224 non-null    float64\n",
      " 23  10-12-13  479 non-null    int64  \n",
      "dtypes: float64(6), int64(12), object(6)\n",
      "memory usage: 89.9+ KB\n"
     ]
    }
   ],
   "source": [
    "inp0.info()  # Attributes Dataset\n",
    "inp1.info()  # Dress Sales"
   ]
  },
  {
   "cell_type": "markdown",
   "id": "67ca51a9",
   "metadata": {},
   "source": [
    "### Fixing the Rows and Columns "
   ]
  },
  {
   "cell_type": "markdown",
   "id": "822a064a",
   "metadata": {},
   "source": [
    "As you can see, there is a column in “Attribute Dataset” named as ‘Size’. This column contains the values in abbreviation format. Write a code in Python to convert the followings:\n",
    "\n",
    "- M into  “Medium”\n",
    "- L into  “Large”\n",
    "- XL into “Extra large”\n",
    "- free into “Free”\n",
    "- S, s & small into “Small”.\n",
    "\n",
    "Now once you are done with changes in the dataset, what is the value of the lowest percentage, the highest percentage and the percentage of Small size categories in the column named “Size”?"
   ]
  },
  {
   "cell_type": "code",
   "execution_count": 118,
   "id": "4175b8fb",
   "metadata": {},
   "outputs": [
    {
     "name": "stdout",
     "output_type": "stream",
     "text": [
      "Medium         35.699374\n",
      "Free           34.446764\n",
      "Large          19.415449\n",
      "Small           7.515658\n",
      "Extra large     2.922756\n",
      "Name: Size, dtype: float64\n"
     ]
    }
   ],
   "source": [
    "# Column fixing, correcting size abbreviation. count the percentage of each size category in \"Size\" column.\n",
    "\n",
    "size_mapping = {\n",
    "    'M': 'Medium',\n",
    "    'L': 'Large',\n",
    "    'XL': 'Extra large',\n",
    "    'free': 'Free',\n",
    "    'S': 'Small',\n",
    "    's': 'Small',\n",
    "    'small': 'Small'\n",
    "}\n",
    "\n",
    "Sizes = inp0['Size']\n",
    "Size_counts = Sizes.map(size_mapping).value_counts()\n",
    "\n",
    "total_entries = len(Sizes)\n",
    "Size_percentage = (Size_counts / total_entries) * 100\n",
    "\n",
    "print(Size_percentage)"
   ]
  },
  {
   "cell_type": "markdown",
   "id": "9418709e",
   "metadata": {},
   "source": [
    "### Impute/Remove Missing values"
   ]
  },
  {
   "cell_type": "code",
   "execution_count": 119,
   "id": "95cd6242",
   "metadata": {},
   "outputs": [
    {
     "data": {
      "text/plain": [
       "Dress_ID            0\n",
       "Style               0\n",
       "Price               2\n",
       "Rating              0\n",
       "Size                0\n",
       "Season              2\n",
       "NeckLine            3\n",
       "SleeveLength        2\n",
       "Material          119\n",
       "FabricType        256\n",
       "Decoration        224\n",
       "Pattern Type      102\n",
       "Recommendation      0\n",
       "dtype: int64"
      ]
     },
     "execution_count": 119,
     "metadata": {},
     "output_type": "execute_result"
    }
   ],
   "source": [
    "# print the null count of each variables of inp0 and inp1.\n",
    "\n",
    "# inp0\n",
    "inp0.isnull().sum()"
   ]
  },
  {
   "cell_type": "code",
   "execution_count": 120,
   "id": "2373b2bb",
   "metadata": {},
   "outputs": [
    {
     "data": {
      "text/plain": [
       "Dress_ID      0\n",
       "29-08-13      0\n",
       "31-08-13      0\n",
       "09-02-13      0\n",
       "09-04-13      0\n",
       "09-06-13      0\n",
       "09-08-13      0\n",
       "09-10-13      0\n",
       "09-12-13      0\n",
       "14-09-13      0\n",
       "16-09-13      0\n",
       "18-09-13      0\n",
       "20-09-13      0\n",
       "22-09-13      0\n",
       "24-09-13      0\n",
       "26-09-13    222\n",
       "28-09-13      0\n",
       "30-09-13    257\n",
       "10-02-13    259\n",
       "10-04-13    258\n",
       "10-06-13      0\n",
       "10-08-13    255\n",
       "10-10-13    255\n",
       "10-12-13      0\n",
       "dtype: int64"
      ]
     },
     "execution_count": 120,
     "metadata": {},
     "output_type": "execute_result"
    }
   ],
   "source": [
    "# inp1 null count\n",
    "\n",
    "inp1.isnull().sum()"
   ]
  },
  {
   "cell_type": "code",
   "execution_count": 121,
   "id": "9d5bb100",
   "metadata": {},
   "outputs": [],
   "source": [
    "# there are some data in the columns which are NaN not a number.\n",
    "# we have to replave them \n",
    "\n",
    "inp1['09-12-13'] = inp1['09-12-13'].replace('Removed',np.NaN)\n",
    "\n",
    "inp1['14-09-13'] = inp1['14-09-13'].replace('removed',np.NaN)\n",
    "\n",
    "inp1['16-09-13'] = inp1['16-09-13'].replace('removed',np.NaN)\n",
    "\n",
    "inp1['18-09-13'] = inp1['18-09-13'].replace('removed',np.NaN)\n",
    "\n",
    "inp1['20-09-13'] = inp1['20-09-13'].replace('removed',np.NaN)\n",
    "\n",
    "inp1['22-09-13'] = inp1['22-09-13'].replace('Orders',np.NaN)"
   ]
  },
  {
   "cell_type": "markdown",
   "id": "eb1d055f",
   "metadata": {},
   "source": [
    "You are given another dataset named “Dress Sales”. Now if you observe the datatypes of the columns using ‘inp1.info()’ command, you can identify that there are certain columns defined as object data type though they primarily consist of numeric data.\n",
    "\n",
    "Now if you try and convert these object data type columns into numeric data type(float), you will come across an error message. Try to correct this error."
   ]
  },
  {
   "cell_type": "code",
   "execution_count": 122,
   "id": "eb71027d",
   "metadata": {},
   "outputs": [
    {
     "data": {
      "text/plain": [
       "Dress_ID      int64\n",
       "29-08-13      int64\n",
       "31-08-13      int64\n",
       "09-02-13      int64\n",
       "09-04-13      int64\n",
       "09-06-13      int64\n",
       "09-08-13      int64\n",
       "09-10-13      int64\n",
       "09-12-13     object\n",
       "14-09-13     object\n",
       "16-09-13     object\n",
       "18-09-13     object\n",
       "20-09-13     object\n",
       "22-09-13     object\n",
       "24-09-13      int64\n",
       "26-09-13    float64\n",
       "28-09-13      int64\n",
       "30-09-13    float64\n",
       "10-02-13    float64\n",
       "10-04-13    float64\n",
       "10-06-13      int64\n",
       "10-08-13    float64\n",
       "10-10-13    float64\n",
       "10-12-13      int64\n",
       "dtype: object"
      ]
     },
     "execution_count": 122,
     "metadata": {},
     "output_type": "execute_result"
    }
   ],
   "source": [
    "# Print the data types information of inp1 i.e. \"Dress Sales\" data.\n",
    "\n",
    "inp1.dtypes"
   ]
  },
  {
   "cell_type": "code",
   "execution_count": 123,
   "id": "7a86bb58",
   "metadata": {},
   "outputs": [],
   "source": [
    "# Convert the object type columns in \"Dress Sales\" into float type of data type.\n",
    "\n",
    "inp1['18-09-13']=inp1['18-09-13'].astype(float)\n",
    "\n",
    "inp1['14-09-13']=inp1['14-09-13'].astype(float)\n",
    "\n",
    "inp1['16-09-13']=inp1['16-09-13'].astype(float)\n",
    "\n",
    "inp1['20-09-13']=inp1['20-09-13'].astype(float)\n",
    "\n",
    "inp1['22-09-13']=inp1['22-09-13'].astype(float)\n",
    "\n",
    "inp1['09-12-13']=inp1['09-12-13'].astype(float)"
   ]
  },
  {
   "cell_type": "code",
   "execution_count": 124,
   "id": "f188cbf6",
   "metadata": {},
   "outputs": [
    {
     "data": {
      "text/plain": [
       "Dress_ID      int64\n",
       "29-08-13      int64\n",
       "31-08-13      int64\n",
       "09-02-13      int64\n",
       "09-04-13      int64\n",
       "09-06-13      int64\n",
       "09-08-13      int64\n",
       "09-10-13      int64\n",
       "09-12-13    float64\n",
       "14-09-13    float64\n",
       "16-09-13    float64\n",
       "18-09-13    float64\n",
       "20-09-13    float64\n",
       "22-09-13    float64\n",
       "24-09-13      int64\n",
       "26-09-13    float64\n",
       "28-09-13      int64\n",
       "30-09-13    float64\n",
       "10-02-13    float64\n",
       "10-04-13    float64\n",
       "10-06-13      int64\n",
       "10-08-13    float64\n",
       "10-10-13    float64\n",
       "10-12-13      int64\n",
       "dtype: object"
      ]
     },
     "execution_count": 124,
     "metadata": {},
     "output_type": "execute_result"
    }
   ],
   "source": [
    "inp1.dtypes\n",
    "\n",
    "# I have converted the int64  into float64"
   ]
  },
  {
   "cell_type": "markdown",
   "id": "fb694dda",
   "metadata": {},
   "source": [
    "When you see the null counts in “Dress Sales” dataset after performing all the operations that have been mentioned in jupyter notebook, you will find that there are some columns in “Dress Sales” data where there are more than 40% of missing values. Based on your understanding of dealing with missing values do the following steps."
   ]
  },
  {
   "cell_type": "code",
   "execution_count": 125,
   "id": "6e4be100",
   "metadata": {},
   "outputs": [
    {
     "name": "stdout",
     "output_type": "stream",
     "text": [
      "Null_percentage of Each column: \n",
      "Dress_ID     0.000000\n",
      "29-08-13     0.000000\n",
      "31-08-13     0.000000\n",
      "09-02-13     0.000000\n",
      "09-04-13     0.000000\n",
      "09-06-13     0.000000\n",
      "09-08-13     0.000000\n",
      "09-10-13     0.000000\n",
      "09-12-13     0.208768\n",
      "14-09-13     0.208768\n",
      "16-09-13     0.208768\n",
      "18-09-13     0.208768\n",
      "20-09-13     0.208768\n",
      "22-09-13     0.208768\n",
      "24-09-13     0.000000\n",
      "26-09-13    46.346555\n",
      "28-09-13     0.000000\n",
      "30-09-13    53.653445\n",
      "10-02-13    54.070981\n",
      "10-04-13    53.862213\n",
      "10-06-13     0.000000\n",
      "10-08-13    53.235908\n",
      "10-10-13    53.235908\n",
      "10-12-13     0.000000\n",
      "dtype: float64\n"
     ]
    }
   ],
   "source": [
    "# Print the null percetange of each column of inp1.\n",
    "\n",
    "null_percentage = inp1.isnull().mean() * 100\n",
    "\n",
    "print(\"Null_percentage of Each column: \")\n",
    "\n",
    "print(null_percentage)"
   ]
  },
  {
   "cell_type": "code",
   "execution_count": 126,
   "id": "8628b808",
   "metadata": {},
   "outputs": [],
   "source": [
    "# Drop the columns in \"Dress Sales\" which have more than 40% of missing values.\n",
    "\n",
    "columns_to_drop = null_percentage[null_percentage > 40].index\n",
    "\n",
    "# drop the columns from the original dataframe inp1\n",
    "\n",
    "inp1 = inp1.drop(columns = columns_to_drop)"
   ]
  },
  {
   "cell_type": "code",
   "execution_count": 127,
   "id": "70a6c3ae",
   "metadata": {},
   "outputs": [],
   "source": [
    "# inp1['09-12-13'] = inp1['09-12-13'].mode()[0]\n",
    "# inp1['14-09-13'] = inp1['14-09-13'].mode()[0]\n",
    "# inp1['16-09-13'] = inp1['16-09-13'].mode()[0]\n",
    "# inp1['18-09-13'] = inp1['18-09-13'].mode()[0]\n",
    "# inp1['20-09-13'] = inp1['20-09-13'].mode()[0]\n",
    "# inp1['22-09-13'] = inp1['22-09-13'].mode()[0]"
   ]
  },
  {
   "cell_type": "code",
   "execution_count": 128,
   "id": "9bb0d5bf",
   "metadata": {},
   "outputs": [
    {
     "data": {
      "text/plain": [
       "Dress_ID    0\n",
       "29-08-13    0\n",
       "31-08-13    0\n",
       "09-02-13    0\n",
       "09-04-13    0\n",
       "09-06-13    0\n",
       "09-08-13    0\n",
       "09-10-13    0\n",
       "09-12-13    0\n",
       "14-09-13    0\n",
       "16-09-13    0\n",
       "18-09-13    0\n",
       "20-09-13    0\n",
       "22-09-13    0\n",
       "24-09-13    0\n",
       "28-09-13    0\n",
       "10-06-13    0\n",
       "10-12-13    0\n",
       "dtype: int64"
      ]
     },
     "execution_count": 128,
     "metadata": {},
     "output_type": "execute_result"
    }
   ],
   "source": [
    "inp1.isnull().sum()"
   ]
  },
  {
   "cell_type": "code",
   "execution_count": 129,
   "id": "0ce492f8",
   "metadata": {},
   "outputs": [
    {
     "data": {
      "text/plain": [
       "Index(['Dress_ID', '29-08-13', '31-08-13', '09-02-13', '09-04-13', '09-06-13',\n",
       "       '09-08-13', '09-10-13', '09-12-13', '14-09-13', '16-09-13', '18-09-13',\n",
       "       '20-09-13', '22-09-13', '24-09-13', '28-09-13', '10-06-13', '10-12-13'],\n",
       "      dtype='object')"
      ]
     },
     "execution_count": 129,
     "metadata": {},
     "output_type": "execute_result"
    }
   ],
   "source": [
    "inp1.columns"
   ]
  },
  {
   "cell_type": "markdown",
   "id": "ea49e145",
   "metadata": {},
   "source": [
    "You should categorise the dates into seasons in “Dress Sales” data to simplify the analysis according to the following criteria:\n",
    "- June, July and August: Summer.\n",
    "- September, October and November: Autumn.\n",
    "- December, January and February: WInter.\n",
    "- March, April and May: Spring."
   ]
  },
  {
   "cell_type": "code",
   "execution_count": 130,
   "id": "d6c6d782",
   "metadata": {},
   "outputs": [
    {
     "name": "stdout",
     "output_type": "stream",
     "text": [
      "691907\n",
      "522891.0\n",
      "315469.0\n",
      "143600\n"
     ]
    }
   ],
   "source": [
    "# Create the four seasons columns in inp1, according to the above criteria\n",
    "\n",
    "# Create the four seasons columns\n",
    "inp1['Summer'] = inp1[['29-08-13', '31-08-13', '09-06-13', '09-08-13', '10-06-13']].sum(axis=1)\n",
    "inp1['Autumn'] = inp1[['09-10-13', '14-09-13', '16-09-13', '18-09-13', '20-09-13', '22-09-13', '24-09-13', '28-09-13']].sum(axis=1)\n",
    "inp1['Winter'] = inp1[['09-02-13', '09-12-13','10-12-13']].sum(axis=1)\n",
    "inp1['Spring'] = inp1['09-04-13']\n",
    "\n",
    "# Print the results\n",
    "print(inp1['Summer'].sum())\n",
    "print(inp1['Autumn'].sum())\n",
    "print(inp1['Winter'].sum())\n",
    "print(inp1['Spring'].sum())\n"
   ]
  },
  {
   "cell_type": "code",
   "execution_count": 131,
   "id": "3b2b034a",
   "metadata": {},
   "outputs": [
    {
     "name": "stdout",
     "output_type": "stream",
     "text": [
      "691907\n",
      "522891.0\n",
      "315469.0\n",
      "143600\n"
     ]
    }
   ],
   "source": [
    "# calculate the sum of sales in each seasons in inp1 i.e. \"Dress Sales\".\n",
    "\n",
    "# Print the results\n",
    "\n",
    "print(inp1['Summer'].sum())\n",
    "\n",
    "print(inp1['Autumn'].sum())\n",
    "\n",
    "print(inp1['Winter'].sum())\n",
    "\n",
    "print(inp1['Spring'].sum())"
   ]
  },
  {
   "cell_type": "markdown",
   "id": "14b1e6d8",
   "metadata": {},
   "source": [
    "Now let's merge inp1 with inp0 with left join manner, so that the information of inp0 should remain intact."
   ]
  },
  {
   "cell_type": "code",
   "execution_count": 132,
   "id": "cdaaa2ed",
   "metadata": {},
   "outputs": [
    {
     "data": {
      "text/html": [
       "<div>\n",
       "<style scoped>\n",
       "    .dataframe tbody tr th:only-of-type {\n",
       "        vertical-align: middle;\n",
       "    }\n",
       "\n",
       "    .dataframe tbody tr th {\n",
       "        vertical-align: top;\n",
       "    }\n",
       "\n",
       "    .dataframe thead th {\n",
       "        text-align: right;\n",
       "    }\n",
       "</style>\n",
       "<table border=\"1\" class=\"dataframe\">\n",
       "  <thead>\n",
       "    <tr style=\"text-align: right;\">\n",
       "      <th></th>\n",
       "      <th>Dress_ID</th>\n",
       "      <th>Style</th>\n",
       "      <th>Price</th>\n",
       "      <th>Rating</th>\n",
       "      <th>Size</th>\n",
       "      <th>Season</th>\n",
       "      <th>NeckLine</th>\n",
       "      <th>SleeveLength</th>\n",
       "      <th>Material</th>\n",
       "      <th>FabricType</th>\n",
       "      <th>...</th>\n",
       "      <th>20-09-13</th>\n",
       "      <th>22-09-13</th>\n",
       "      <th>24-09-13</th>\n",
       "      <th>28-09-13</th>\n",
       "      <th>10-06-13</th>\n",
       "      <th>10-12-13</th>\n",
       "      <th>Summer</th>\n",
       "      <th>Autumn</th>\n",
       "      <th>Winter</th>\n",
       "      <th>Spring</th>\n",
       "    </tr>\n",
       "  </thead>\n",
       "  <tbody>\n",
       "    <tr>\n",
       "      <th>0</th>\n",
       "      <td>1006032852</td>\n",
       "      <td>Sexy</td>\n",
       "      <td>Low</td>\n",
       "      <td>4.6</td>\n",
       "      <td>M</td>\n",
       "      <td>Summer</td>\n",
       "      <td>o-neck</td>\n",
       "      <td>sleevless</td>\n",
       "      <td>NaN</td>\n",
       "      <td>chiffon</td>\n",
       "      <td>...</td>\n",
       "      <td>1.0</td>\n",
       "      <td>1.0</td>\n",
       "      <td>3554</td>\n",
       "      <td>3706</td>\n",
       "      <td>3897</td>\n",
       "      <td>4048</td>\n",
       "      <td>13899</td>\n",
       "      <td>10199.0</td>\n",
       "      <td>6540.0</td>\n",
       "      <td>2660</td>\n",
       "    </tr>\n",
       "    <tr>\n",
       "      <th>1</th>\n",
       "      <td>1212192089</td>\n",
       "      <td>Casual</td>\n",
       "      <td>Low</td>\n",
       "      <td>0.0</td>\n",
       "      <td>L</td>\n",
       "      <td>Summer</td>\n",
       "      <td>o-neck</td>\n",
       "      <td>Petal</td>\n",
       "      <td>microfiber</td>\n",
       "      <td>NaN</td>\n",
       "      <td>...</td>\n",
       "      <td>1.0</td>\n",
       "      <td>1.0</td>\n",
       "      <td>2710</td>\n",
       "      <td>3258</td>\n",
       "      <td>3911</td>\n",
       "      <td>4277</td>\n",
       "      <td>6216</td>\n",
       "      <td>7141.0</td>\n",
       "      <td>4848.0</td>\n",
       "      <td>750</td>\n",
       "    </tr>\n",
       "    <tr>\n",
       "      <th>2</th>\n",
       "      <td>1190380701</td>\n",
       "      <td>vintage</td>\n",
       "      <td>High</td>\n",
       "      <td>0.0</td>\n",
       "      <td>L</td>\n",
       "      <td>Automn</td>\n",
       "      <td>o-neck</td>\n",
       "      <td>full</td>\n",
       "      <td>polyster</td>\n",
       "      <td>NaN</td>\n",
       "      <td>...</td>\n",
       "      <td>1.0</td>\n",
       "      <td>1.0</td>\n",
       "      <td>11</td>\n",
       "      <td>11</td>\n",
       "      <td>11</td>\n",
       "      <td>11</td>\n",
       "      <td>40</td>\n",
       "      <td>40.0</td>\n",
       "      <td>19.0</td>\n",
       "      <td>7</td>\n",
       "    </tr>\n",
       "    <tr>\n",
       "      <th>3</th>\n",
       "      <td>966005983</td>\n",
       "      <td>Brief</td>\n",
       "      <td>Average</td>\n",
       "      <td>4.6</td>\n",
       "      <td>L</td>\n",
       "      <td>Spring</td>\n",
       "      <td>o-neck</td>\n",
       "      <td>full</td>\n",
       "      <td>silk</td>\n",
       "      <td>chiffon</td>\n",
       "      <td>...</td>\n",
       "      <td>1.0</td>\n",
       "      <td>1.0</td>\n",
       "      <td>1878</td>\n",
       "      <td>1914</td>\n",
       "      <td>1952</td>\n",
       "      <td>1963</td>\n",
       "      <td>7213</td>\n",
       "      <td>5438.0</td>\n",
       "      <td>3290.0</td>\n",
       "      <td>1455</td>\n",
       "    </tr>\n",
       "    <tr>\n",
       "      <th>4</th>\n",
       "      <td>876339541</td>\n",
       "      <td>cute</td>\n",
       "      <td>Low</td>\n",
       "      <td>4.5</td>\n",
       "      <td>M</td>\n",
       "      <td>Summer</td>\n",
       "      <td>o-neck</td>\n",
       "      <td>butterfly</td>\n",
       "      <td>chiffonfabric</td>\n",
       "      <td>chiffon</td>\n",
       "      <td>...</td>\n",
       "      <td>1.0</td>\n",
       "      <td>1.0</td>\n",
       "      <td>2032</td>\n",
       "      <td>2252</td>\n",
       "      <td>2544</td>\n",
       "      <td>2736</td>\n",
       "      <td>7706</td>\n",
       "      <td>5863.0</td>\n",
       "      <td>4041.0</td>\n",
       "      <td>1396</td>\n",
       "    </tr>\n",
       "  </tbody>\n",
       "</table>\n",
       "<p>5 rows × 34 columns</p>\n",
       "</div>"
      ],
      "text/plain": [
       "     Dress_ID    Style    Price  Rating Size  Season NeckLine SleeveLength  \\\n",
       "0  1006032852     Sexy      Low     4.6    M  Summer   o-neck    sleevless   \n",
       "1  1212192089   Casual      Low     0.0    L  Summer   o-neck        Petal   \n",
       "2  1190380701  vintage     High     0.0    L  Automn   o-neck         full   \n",
       "3   966005983    Brief  Average     4.6    L  Spring   o-neck         full   \n",
       "4   876339541     cute      Low     4.5    M  Summer   o-neck    butterfly   \n",
       "\n",
       "        Material FabricType  ... 20-09-13 22-09-13  24-09-13  28-09-13  \\\n",
       "0            NaN    chiffon  ...      1.0      1.0      3554      3706   \n",
       "1     microfiber        NaN  ...      1.0      1.0      2710      3258   \n",
       "2       polyster        NaN  ...      1.0      1.0        11        11   \n",
       "3           silk    chiffon  ...      1.0      1.0      1878      1914   \n",
       "4  chiffonfabric    chiffon  ...      1.0      1.0      2032      2252   \n",
       "\n",
       "   10-06-13  10-12-13  Summer   Autumn  Winter  Spring  \n",
       "0      3897      4048   13899  10199.0  6540.0    2660  \n",
       "1      3911      4277    6216   7141.0  4848.0     750  \n",
       "2        11        11      40     40.0    19.0       7  \n",
       "3      1952      1963    7213   5438.0  3290.0    1455  \n",
       "4      2544      2736    7706   5863.0  4041.0    1396  \n",
       "\n",
       "[5 rows x 34 columns]"
      ]
     },
     "execution_count": 132,
     "metadata": {},
     "output_type": "execute_result"
    }
   ],
   "source": [
    "# Merge inp0 with inp1 into inp0. this is also called left merge.\n",
    "\n",
    "inp0 = pd.merge(left=inp0,right=inp1, how='left', left_on='Dress_ID', right_on='Dress_ID')\n",
    "\n",
    "inp0.head()"
   ]
  },
  {
   "cell_type": "code",
   "execution_count": 133,
   "id": "a9b4128a",
   "metadata": {},
   "outputs": [
    {
     "data": {
      "text/plain": [
       "Dress_ID            0\n",
       "Style               0\n",
       "Price               2\n",
       "Rating              0\n",
       "Size                0\n",
       "Season              2\n",
       "NeckLine            3\n",
       "SleeveLength        2\n",
       "Material          119\n",
       "FabricType        256\n",
       "Decoration        224\n",
       "Pattern Type      102\n",
       "Recommendation      0\n",
       "Summer              0\n",
       "Autumn              0\n",
       "Winter              0\n",
       "Spring              0\n",
       "dtype: int64"
      ]
     },
     "execution_count": 133,
     "metadata": {},
     "output_type": "execute_result"
    }
   ],
   "source": [
    "# Now Drop the Date columns from inp0 as it is already combined into four seasons.\n",
    "\n",
    "inp0.drop(inp0.loc[:,'29-08-13':'10-12-13'].columns, axis= 1, inplace= True)\n",
    "\n",
    "inp0.isnull().sum()"
   ]
  },
  {
   "cell_type": "markdown",
   "id": "6e954a74",
   "metadata": {},
   "source": [
    "Print the null count of inp0 to get the idea about the missing values in the data set."
   ]
  },
  {
   "cell_type": "code",
   "execution_count": 137,
   "id": "8597013a",
   "metadata": {},
   "outputs": [
    {
     "name": "stdout",
     "output_type": "stream",
     "text": [
      "Dress_ID            0\n",
      "Style               0\n",
      "Price               2\n",
      "Rating              0\n",
      "Size                0\n",
      "Season              2\n",
      "NeckLine            3\n",
      "SleeveLength        2\n",
      "Material          119\n",
      "FabricType        256\n",
      "Decoration        224\n",
      "Pattern Type      102\n",
      "Recommendation      0\n",
      "Summer              0\n",
      "Autumn              0\n",
      "Winter              0\n",
      "Spring              0\n",
      "Dress_ID            0\n",
      "29-08-13            0\n",
      "31-08-13            0\n",
      "09-02-13            0\n",
      "09-04-13            0\n",
      "09-06-13            0\n",
      "09-08-13            0\n",
      "09-10-13            0\n",
      "09-12-13            0\n",
      "14-09-13            0\n",
      "16-09-13            0\n",
      "18-09-13            0\n",
      "20-09-13            0\n",
      "22-09-13            0\n",
      "24-09-13            0\n",
      "28-09-13            0\n",
      "10-06-13            0\n",
      "10-12-13            0\n",
      "Summer              0\n",
      "Autumn              0\n",
      "Winter              0\n",
      "Spring              0\n",
      "dtype: int64\n"
     ]
    }
   ],
   "source": [
    "# Print the null count of each columns in inp0 dataframe i.e. combined data frame of inp0 and inp1 without date columns.\n",
    "# combining the inp0 and inp1\n",
    "\n",
    "print(pd.concat([inp0, inp1],axis = 1).isnull().sum())"
   ]
  },
  {
   "cell_type": "markdown",
   "id": "dca02299",
   "metadata": {},
   "source": [
    "#You can see that there are two types of variables one with a large number of missing values and another is very less number of missing values. These two columns can be categorized as:"
   ]
  },
  {
   "cell_type": "code",
   "execution_count": 138,
   "id": "430c5030",
   "metadata": {},
   "outputs": [],
   "source": [
    "#Type-1: Missing values are very less (around 2 or 3 missing values): Price, Season, NeckLine, SleeveLength, Winter and Autumn.\n",
    "\n",
    "# Deal with the missing values of Type-1 columns: Price, Season, NeckLine, SleeveLength, Winter, and Autumn.\n",
    "\n",
    "columns_to_fill = ['Price', 'Season', 'NeckLine', 'SleeveLength', 'Winter', 'Autumn']\n",
    "\n",
    "inp0[columns_to_fill] = inp0[columns_to_fill].apply(lambda col: col.fillna(col.mode().iloc[0]))\n",
    "\n",
    "# Alternatively, you can use a for loop:\n",
    "# for column in columns_to_fill:\n",
    "#     inp0[column].fillna(inp0[column].mode().iloc[0], inplace=True)"
   ]
  },
  {
   "cell_type": "code",
   "execution_count": 139,
   "id": "caa5624b",
   "metadata": {},
   "outputs": [
    {
     "data": {
      "text/plain": [
       "Dress_ID            0\n",
       "Style               0\n",
       "Price               0\n",
       "Rating              0\n",
       "Size                0\n",
       "Season              0\n",
       "NeckLine            0\n",
       "SleeveLength        0\n",
       "Material          119\n",
       "FabricType        256\n",
       "Decoration        224\n",
       "Pattern Type      102\n",
       "Recommendation      0\n",
       "Summer              0\n",
       "Autumn              0\n",
       "Winter              0\n",
       "Spring              0\n",
       "dtype: int64"
      ]
     },
     "execution_count": 139,
     "metadata": {},
     "output_type": "execute_result"
    }
   ],
   "source": [
    "inp0.isnull().sum()"
   ]
  },
  {
   "cell_type": "code",
   "execution_count": 140,
   "id": "2adeb21f",
   "metadata": {},
   "outputs": [
    {
     "data": {
      "text/plain": [
       "Dress_ID          0\n",
       "Style             0\n",
       "Price             0\n",
       "Rating            0\n",
       "Size              0\n",
       "Season            0\n",
       "NeckLine          0\n",
       "SleeveLength      0\n",
       "Material          0\n",
       "FabricType        0\n",
       "Decoration        0\n",
       "Pattern Type      0\n",
       "Recommendation    0\n",
       "Summer            0\n",
       "Autumn            0\n",
       "Winter            0\n",
       "Spring            0\n",
       "dtype: int64"
      ]
     },
     "execution_count": 140,
     "metadata": {},
     "output_type": "execute_result"
    }
   ],
   "source": [
    "# Deal with missing values of Type-2 columns: Material, FabricType, Decoration, and Pattern Type.\n",
    "columns_to_dropna = ['Material', 'FabricType', 'Decoration', 'Pattern Type']\n",
    "\n",
    "inp0.query(\"`Material`.notnull() and `FabricType`.notnull() and `Decoration`.notnull() and `Pattern Type`.notnull()\", inplace=True)\n",
    "inp0.isnull().sum()"
   ]
  },
  {
   "cell_type": "markdown",
   "id": "bc413639",
   "metadata": {},
   "source": [
    "# Standardise value"
   ]
  },
  {
   "cell_type": "markdown",
   "id": "a371bd3d",
   "metadata": {},
   "source": [
    "In the given dataset, there are certain discrepancies with the categorical names such as irregular spellings. Choose the correct option of columns with irregular categories and update them.\n",
    "\n",
    " - Season, NeckLine\n",
    " - Price, Material\n",
    " - fabricType, Decoration\n",
    " - Season, SleeveLength"
   ]
  },
  {
   "cell_type": "code",
   "execution_count": 142,
   "id": "2ee4d1a6",
   "metadata": {},
   "outputs": [
    {
     "data": {
      "text/plain": [
       "Index(['Dress_ID', 'Style', 'Price', 'Rating', 'Size', 'Season', 'NeckLine',\n",
       "       'SleeveLength', 'Material', 'FabricType', 'Decoration', 'Pattern Type',\n",
       "       'Recommendation', 'Summer', 'Autumn', 'Winter', 'Spring'],\n",
       "      dtype='object')"
      ]
     },
     "execution_count": 142,
     "metadata": {},
     "output_type": "execute_result"
    }
   ],
   "source": [
    "inp0.columns"
   ]
  },
  {
   "cell_type": "code",
   "execution_count": 145,
   "id": "34505e1c",
   "metadata": {},
   "outputs": [
    {
     "data": {
      "text/plain": [
       "['Spring', 'Automn', 'Summer', 'Autumn', 'winter', 'Winter']"
      ]
     },
     "execution_count": 145,
     "metadata": {},
     "output_type": "execute_result"
    }
   ],
   "source": [
    "unique_seasons = list(set(inp0['Season']))\n",
    "unique_seasons"
   ]
  },
  {
   "cell_type": "code",
   "execution_count": 146,
   "id": "03e20e4c",
   "metadata": {},
   "outputs": [
    {
     "data": {
      "text/plain": [
       "['v-neck',\n",
       " 'Sweetheart',\n",
       " 'turndowncollor',\n",
       " 'o-neck',\n",
       " 'peterpan-collor',\n",
       " 'ruffled',\n",
       " 'boat-neck',\n",
       " 'open',\n",
       " 'bowneck',\n",
       " 'slash-neck']"
      ]
     },
     "execution_count": 146,
     "metadata": {},
     "output_type": "execute_result"
    }
   ],
   "source": [
    "unique_neckline = list(set(inp0['NeckLine']))\n",
    "unique_neckline"
   ]
  },
  {
   "cell_type": "code",
   "execution_count": 147,
   "id": "90df4368",
   "metadata": {},
   "outputs": [
    {
     "data": {
      "text/plain": [
       "['full',\n",
       " 'threequarter',\n",
       " 'short',\n",
       " 'halfsleeve',\n",
       " 'butterfly',\n",
       " 'thressqatar',\n",
       " 'sleevless']"
      ]
     },
     "execution_count": 147,
     "metadata": {},
     "output_type": "execute_result"
    }
   ],
   "source": [
    "unique_sleevelength = list(set(inp0['SleeveLength']))\n",
    "unique_sleevelength"
   ]
  },
  {
   "cell_type": "code",
   "execution_count": 63,
   "id": "bfe76aa1",
   "metadata": {},
   "outputs": [],
   "source": [
    "# Correcting the spellings\n",
    "\n",
    "inp0['Season'] = inp0['Season'].replace('Automn', 'Autumn')\n",
    "\n",
    "inp0['Season'] = inp0['Season'].replace('Spring', 'Spring')\n",
    "\n",
    "inp0['Season'] = inp0['Season'].replace('Winter', 'Winter')"
   ]
  },
  {
   "cell_type": "code",
   "execution_count": 148,
   "id": "05493b73",
   "metadata": {},
   "outputs": [],
   "source": [
    "# correcting the spellings.\n",
    "\n",
    "inp0['SleeveLength'] = inp0['SleeveLength'].replace(['threequarter','threequater', 'thressqatar'], \"three quater\")\n",
    "\n",
    "inp0['SleeveLength'] = inp0['SleeveLength'].replace(['turndowncollor','turndowncollor'], \"turn down collar\")"
   ]
  },
  {
   "cell_type": "code",
   "execution_count": 149,
   "id": "18c3608f",
   "metadata": {},
   "outputs": [
    {
     "data": {
      "text/html": [
       "<div>\n",
       "<style scoped>\n",
       "    .dataframe tbody tr th:only-of-type {\n",
       "        vertical-align: middle;\n",
       "    }\n",
       "\n",
       "    .dataframe tbody tr th {\n",
       "        vertical-align: top;\n",
       "    }\n",
       "\n",
       "    .dataframe thead th {\n",
       "        text-align: right;\n",
       "    }\n",
       "</style>\n",
       "<table border=\"1\" class=\"dataframe\">\n",
       "  <thead>\n",
       "    <tr style=\"text-align: right;\">\n",
       "      <th></th>\n",
       "      <th>Dress_ID</th>\n",
       "      <th>Style</th>\n",
       "      <th>Price</th>\n",
       "      <th>Rating</th>\n",
       "      <th>Size</th>\n",
       "      <th>Season</th>\n",
       "      <th>NeckLine</th>\n",
       "      <th>SleeveLength</th>\n",
       "      <th>Material</th>\n",
       "      <th>FabricType</th>\n",
       "      <th>Decoration</th>\n",
       "      <th>Pattern Type</th>\n",
       "      <th>Recommendation</th>\n",
       "      <th>Summer</th>\n",
       "      <th>Autumn</th>\n",
       "      <th>Winter</th>\n",
       "      <th>Spring</th>\n",
       "    </tr>\n",
       "  </thead>\n",
       "  <tbody>\n",
       "    <tr>\n",
       "      <th>3</th>\n",
       "      <td>966005983</td>\n",
       "      <td>Brief</td>\n",
       "      <td>Average</td>\n",
       "      <td>4.6</td>\n",
       "      <td>L</td>\n",
       "      <td>Spring</td>\n",
       "      <td>o-neck</td>\n",
       "      <td>full</td>\n",
       "      <td>silk</td>\n",
       "      <td>chiffon</td>\n",
       "      <td>embroidary</td>\n",
       "      <td>print</td>\n",
       "      <td>1</td>\n",
       "      <td>7213</td>\n",
       "      <td>5438.0</td>\n",
       "      <td>3290.0</td>\n",
       "      <td>1455</td>\n",
       "    </tr>\n",
       "    <tr>\n",
       "      <th>4</th>\n",
       "      <td>876339541</td>\n",
       "      <td>cute</td>\n",
       "      <td>Low</td>\n",
       "      <td>4.5</td>\n",
       "      <td>M</td>\n",
       "      <td>Summer</td>\n",
       "      <td>o-neck</td>\n",
       "      <td>butterfly</td>\n",
       "      <td>chiffonfabric</td>\n",
       "      <td>chiffon</td>\n",
       "      <td>bow</td>\n",
       "      <td>dot</td>\n",
       "      <td>0</td>\n",
       "      <td>7706</td>\n",
       "      <td>5863.0</td>\n",
       "      <td>4041.0</td>\n",
       "      <td>1396</td>\n",
       "    </tr>\n",
       "    <tr>\n",
       "      <th>7</th>\n",
       "      <td>1113094204</td>\n",
       "      <td>Flare</td>\n",
       "      <td>Average</td>\n",
       "      <td>0.0</td>\n",
       "      <td>free</td>\n",
       "      <td>Spring</td>\n",
       "      <td>v-neck</td>\n",
       "      <td>short</td>\n",
       "      <td>cotton</td>\n",
       "      <td>broadcloth</td>\n",
       "      <td>beading</td>\n",
       "      <td>solid</td>\n",
       "      <td>1</td>\n",
       "      <td>68</td>\n",
       "      <td>81.0</td>\n",
       "      <td>44.0</td>\n",
       "      <td>12</td>\n",
       "    </tr>\n",
       "    <tr>\n",
       "      <th>9</th>\n",
       "      <td>1117293701</td>\n",
       "      <td>party</td>\n",
       "      <td>Average</td>\n",
       "      <td>5.0</td>\n",
       "      <td>free</td>\n",
       "      <td>Summer</td>\n",
       "      <td>o-neck</td>\n",
       "      <td>full</td>\n",
       "      <td>polyster</td>\n",
       "      <td>broadcloth</td>\n",
       "      <td>lace</td>\n",
       "      <td>solid</td>\n",
       "      <td>0</td>\n",
       "      <td>275</td>\n",
       "      <td>264.0</td>\n",
       "      <td>181.0</td>\n",
       "      <td>49</td>\n",
       "    </tr>\n",
       "    <tr>\n",
       "      <th>27</th>\n",
       "      <td>942808364</td>\n",
       "      <td>cute</td>\n",
       "      <td>Low</td>\n",
       "      <td>4.3</td>\n",
       "      <td>free</td>\n",
       "      <td>Automn</td>\n",
       "      <td>o-neck</td>\n",
       "      <td>sleevless</td>\n",
       "      <td>polyster</td>\n",
       "      <td>chiffon</td>\n",
       "      <td>sashes</td>\n",
       "      <td>striped</td>\n",
       "      <td>0</td>\n",
       "      <td>2288</td>\n",
       "      <td>1546.0</td>\n",
       "      <td>1001.0</td>\n",
       "      <td>475</td>\n",
       "    </tr>\n",
       "  </tbody>\n",
       "</table>\n",
       "</div>"
      ],
      "text/plain": [
       "      Dress_ID  Style    Price  Rating  Size  Season NeckLine SleeveLength  \\\n",
       "3    966005983  Brief  Average     4.6     L  Spring   o-neck         full   \n",
       "4    876339541   cute      Low     4.5     M  Summer   o-neck    butterfly   \n",
       "7   1113094204  Flare  Average     0.0  free  Spring   v-neck        short   \n",
       "9   1117293701  party  Average     5.0  free  Summer   o-neck         full   \n",
       "27   942808364   cute      Low     4.3  free  Automn   o-neck    sleevless   \n",
       "\n",
       "         Material  FabricType  Decoration Pattern Type  Recommendation  \\\n",
       "3            silk     chiffon  embroidary        print               1   \n",
       "4   chiffonfabric     chiffon         bow          dot               0   \n",
       "7          cotton  broadcloth     beading        solid               1   \n",
       "9        polyster  broadcloth        lace        solid               0   \n",
       "27       polyster     chiffon      sashes      striped               0   \n",
       "\n",
       "    Summer  Autumn  Winter  Spring  \n",
       "3     7213  5438.0  3290.0    1455  \n",
       "4     7706  5863.0  4041.0    1396  \n",
       "7       68    81.0    44.0      12  \n",
       "9      275   264.0   181.0      49  \n",
       "27    2288  1546.0  1001.0     475  "
      ]
     },
     "execution_count": 149,
     "metadata": {},
     "output_type": "execute_result"
    }
   ],
   "source": [
    "inp0.head()"
   ]
  },
  {
   "cell_type": "markdown",
   "id": "0285ea8c",
   "metadata": {},
   "source": [
    "There is a column named ‘Style’ in ‘Attribute Dataset’ which consists of the different style categories of the women apparels. Certain categories whose total sale is less than 50000 across all the seasons is considered under one single category as ‘Others’.\n",
    "\n",
    "Which of the following categories in ‘Style’ column can be grouped into ‘Others’ category? and perform the grouping operation in the notebook for further analysis.\n",
    "\n",
    " - Flare, fashion\n",
    " - Novelty, bohemian\n",
    " - OL, fashion, work\n",
    " - Novelty, fashion, Flare"
   ]
  },
  {
   "cell_type": "code",
   "execution_count": 150,
   "id": "1d06736f",
   "metadata": {},
   "outputs": [
    {
     "name": "stdout",
     "output_type": "stream",
     "text": [
      "          Summer   Autumn   Winter  Spring\n",
      "Style                                     \n",
      "Brief      22467  15121.0   9766.0    4483\n",
      "Casual     68545  50991.0  30222.0   14557\n",
      "Flare         68     81.0     44.0      12\n",
      "Novelty      308    359.0    144.0      76\n",
      "Sexy       14593  10836.0   6704.0    2895\n",
      "bohemian    3862   4154.0   1627.0    1097\n",
      "cute       71964  46618.0  30094.0   14481\n",
      "party       7271   5282.0   3531.0    1346\n",
      "sexy        7125   5738.0   4003.0    1283\n",
      "vintage     1922   2435.0   1537.0     231\n",
      "work        6017   4054.0   2624.0    1222\n"
     ]
    }
   ],
   "source": [
    "# Group \"Style\" categories into \"Others\" which have less than 50000 sales across all the seasons.\n",
    "\n",
    "import warnings\n",
    "warnings.filterwarnings('ignore')\n",
    "\n",
    "others = inp0.groupby(['Style'])['Summer','Autumn','Winter', 'Spring'].sum()\n",
    "\n",
    "print(others)"
   ]
  },
  {
   "cell_type": "code",
   "execution_count": 154,
   "id": "8c859161",
   "metadata": {},
   "outputs": [
    {
     "data": {
      "text/html": [
       "<div>\n",
       "<style scoped>\n",
       "    .dataframe tbody tr th:only-of-type {\n",
       "        vertical-align: middle;\n",
       "    }\n",
       "\n",
       "    .dataframe tbody tr th {\n",
       "        vertical-align: top;\n",
       "    }\n",
       "\n",
       "    .dataframe thead th {\n",
       "        text-align: right;\n",
       "    }\n",
       "</style>\n",
       "<table border=\"1\" class=\"dataframe\">\n",
       "  <thead>\n",
       "    <tr style=\"text-align: right;\">\n",
       "      <th></th>\n",
       "      <th>Summer</th>\n",
       "      <th>Autumn</th>\n",
       "      <th>Winter</th>\n",
       "      <th>Spring</th>\n",
       "      <th>Total</th>\n",
       "    </tr>\n",
       "    <tr>\n",
       "      <th>Style</th>\n",
       "      <th></th>\n",
       "      <th></th>\n",
       "      <th></th>\n",
       "      <th></th>\n",
       "      <th></th>\n",
       "    </tr>\n",
       "  </thead>\n",
       "  <tbody>\n",
       "    <tr>\n",
       "      <th>Brief</th>\n",
       "      <td>22467</td>\n",
       "      <td>15121.0</td>\n",
       "      <td>9766.0</td>\n",
       "      <td>4483</td>\n",
       "      <td>51837.0</td>\n",
       "    </tr>\n",
       "    <tr>\n",
       "      <th>Casual</th>\n",
       "      <td>68545</td>\n",
       "      <td>50991.0</td>\n",
       "      <td>30222.0</td>\n",
       "      <td>14557</td>\n",
       "      <td>164315.0</td>\n",
       "    </tr>\n",
       "    <tr>\n",
       "      <th>Flare</th>\n",
       "      <td>68</td>\n",
       "      <td>81.0</td>\n",
       "      <td>44.0</td>\n",
       "      <td>12</td>\n",
       "      <td>205.0</td>\n",
       "    </tr>\n",
       "    <tr>\n",
       "      <th>Novelty</th>\n",
       "      <td>308</td>\n",
       "      <td>359.0</td>\n",
       "      <td>144.0</td>\n",
       "      <td>76</td>\n",
       "      <td>887.0</td>\n",
       "    </tr>\n",
       "    <tr>\n",
       "      <th>Sexy</th>\n",
       "      <td>14593</td>\n",
       "      <td>10836.0</td>\n",
       "      <td>6704.0</td>\n",
       "      <td>2895</td>\n",
       "      <td>35028.0</td>\n",
       "    </tr>\n",
       "    <tr>\n",
       "      <th>bohemian</th>\n",
       "      <td>3862</td>\n",
       "      <td>4154.0</td>\n",
       "      <td>1627.0</td>\n",
       "      <td>1097</td>\n",
       "      <td>10740.0</td>\n",
       "    </tr>\n",
       "    <tr>\n",
       "      <th>cute</th>\n",
       "      <td>71964</td>\n",
       "      <td>46618.0</td>\n",
       "      <td>30094.0</td>\n",
       "      <td>14481</td>\n",
       "      <td>163157.0</td>\n",
       "    </tr>\n",
       "    <tr>\n",
       "      <th>party</th>\n",
       "      <td>7271</td>\n",
       "      <td>5282.0</td>\n",
       "      <td>3531.0</td>\n",
       "      <td>1346</td>\n",
       "      <td>17430.0</td>\n",
       "    </tr>\n",
       "    <tr>\n",
       "      <th>sexy</th>\n",
       "      <td>7125</td>\n",
       "      <td>5738.0</td>\n",
       "      <td>4003.0</td>\n",
       "      <td>1283</td>\n",
       "      <td>18149.0</td>\n",
       "    </tr>\n",
       "    <tr>\n",
       "      <th>vintage</th>\n",
       "      <td>1922</td>\n",
       "      <td>2435.0</td>\n",
       "      <td>1537.0</td>\n",
       "      <td>231</td>\n",
       "      <td>6125.0</td>\n",
       "    </tr>\n",
       "    <tr>\n",
       "      <th>work</th>\n",
       "      <td>6017</td>\n",
       "      <td>4054.0</td>\n",
       "      <td>2624.0</td>\n",
       "      <td>1222</td>\n",
       "      <td>13917.0</td>\n",
       "    </tr>\n",
       "  </tbody>\n",
       "</table>\n",
       "</div>"
      ],
      "text/plain": [
       "          Summer   Autumn   Winter  Spring     Total\n",
       "Style                                               \n",
       "Brief      22467  15121.0   9766.0    4483   51837.0\n",
       "Casual     68545  50991.0  30222.0   14557  164315.0\n",
       "Flare         68     81.0     44.0      12     205.0\n",
       "Novelty      308    359.0    144.0      76     887.0\n",
       "Sexy       14593  10836.0   6704.0    2895   35028.0\n",
       "bohemian    3862   4154.0   1627.0    1097   10740.0\n",
       "cute       71964  46618.0  30094.0   14481  163157.0\n",
       "party       7271   5282.0   3531.0    1346   17430.0\n",
       "sexy        7125   5738.0   4003.0    1283   18149.0\n",
       "vintage     1922   2435.0   1537.0     231    6125.0\n",
       "work        6017   4054.0   2624.0    1222   13917.0"
      ]
     },
     "execution_count": 154,
     "metadata": {},
     "output_type": "execute_result"
    }
   ],
   "source": [
    "# Replace with 'Others'\n",
    "\n",
    "others[\"Total\"] = others[[\"Autumn\", \"Winter\", \"Spring\", \"Summer\"]].sum(axis=1)\n",
    "others"
   ]
  },
  {
   "cell_type": "code",
   "execution_count": 156,
   "id": "b8a6f69c",
   "metadata": {},
   "outputs": [
    {
     "data": {
      "text/html": [
       "<div>\n",
       "<style scoped>\n",
       "    .dataframe tbody tr th:only-of-type {\n",
       "        vertical-align: middle;\n",
       "    }\n",
       "\n",
       "    .dataframe tbody tr th {\n",
       "        vertical-align: top;\n",
       "    }\n",
       "\n",
       "    .dataframe thead th {\n",
       "        text-align: right;\n",
       "    }\n",
       "</style>\n",
       "<table border=\"1\" class=\"dataframe\">\n",
       "  <thead>\n",
       "    <tr style=\"text-align: right;\">\n",
       "      <th></th>\n",
       "      <th>Summer</th>\n",
       "      <th>Autumn</th>\n",
       "      <th>Winter</th>\n",
       "      <th>Spring</th>\n",
       "      <th>Total</th>\n",
       "    </tr>\n",
       "    <tr>\n",
       "      <th>Style</th>\n",
       "      <th></th>\n",
       "      <th></th>\n",
       "      <th></th>\n",
       "      <th></th>\n",
       "      <th></th>\n",
       "    </tr>\n",
       "  </thead>\n",
       "  <tbody>\n",
       "    <tr>\n",
       "      <th>Flare</th>\n",
       "      <td>68</td>\n",
       "      <td>81.0</td>\n",
       "      <td>44.0</td>\n",
       "      <td>12</td>\n",
       "      <td>205.0</td>\n",
       "    </tr>\n",
       "    <tr>\n",
       "      <th>Novelty</th>\n",
       "      <td>308</td>\n",
       "      <td>359.0</td>\n",
       "      <td>144.0</td>\n",
       "      <td>76</td>\n",
       "      <td>887.0</td>\n",
       "    </tr>\n",
       "    <tr>\n",
       "      <th>Sexy</th>\n",
       "      <td>14593</td>\n",
       "      <td>10836.0</td>\n",
       "      <td>6704.0</td>\n",
       "      <td>2895</td>\n",
       "      <td>35028.0</td>\n",
       "    </tr>\n",
       "    <tr>\n",
       "      <th>bohemian</th>\n",
       "      <td>3862</td>\n",
       "      <td>4154.0</td>\n",
       "      <td>1627.0</td>\n",
       "      <td>1097</td>\n",
       "      <td>10740.0</td>\n",
       "    </tr>\n",
       "    <tr>\n",
       "      <th>party</th>\n",
       "      <td>7271</td>\n",
       "      <td>5282.0</td>\n",
       "      <td>3531.0</td>\n",
       "      <td>1346</td>\n",
       "      <td>17430.0</td>\n",
       "    </tr>\n",
       "    <tr>\n",
       "      <th>sexy</th>\n",
       "      <td>7125</td>\n",
       "      <td>5738.0</td>\n",
       "      <td>4003.0</td>\n",
       "      <td>1283</td>\n",
       "      <td>18149.0</td>\n",
       "    </tr>\n",
       "    <tr>\n",
       "      <th>vintage</th>\n",
       "      <td>1922</td>\n",
       "      <td>2435.0</td>\n",
       "      <td>1537.0</td>\n",
       "      <td>231</td>\n",
       "      <td>6125.0</td>\n",
       "    </tr>\n",
       "    <tr>\n",
       "      <th>work</th>\n",
       "      <td>6017</td>\n",
       "      <td>4054.0</td>\n",
       "      <td>2624.0</td>\n",
       "      <td>1222</td>\n",
       "      <td>13917.0</td>\n",
       "    </tr>\n",
       "  </tbody>\n",
       "</table>\n",
       "</div>"
      ],
      "text/plain": [
       "          Summer   Autumn  Winter  Spring    Total\n",
       "Style                                             \n",
       "Flare         68     81.0    44.0      12    205.0\n",
       "Novelty      308    359.0   144.0      76    887.0\n",
       "Sexy       14593  10836.0  6704.0    2895  35028.0\n",
       "bohemian    3862   4154.0  1627.0    1097  10740.0\n",
       "party       7271   5282.0  3531.0    1346  17430.0\n",
       "sexy        7125   5738.0  4003.0    1283  18149.0\n",
       "vintage     1922   2435.0  1537.0     231   6125.0\n",
       "work        6017   4054.0  2624.0    1222  13917.0"
      ]
     },
     "execution_count": 156,
     "metadata": {},
     "output_type": "execute_result"
    }
   ],
   "source": [
    "others = others[others['Total'] <50000]\n",
    "others"
   ]
  },
  {
   "cell_type": "markdown",
   "id": "527faa56",
   "metadata": {},
   "source": [
    " - What is the percentage of “cute” and “Others” category in          “Style” column in “Attribute DataSet” respectively?\n",
    "\n",
    " - 46%, 5%\n",
    " - 9%, 2.1%\n",
    " - 2.1%, 5%\n",
    " - 13.8%, 9%"
   ]
  },
  {
   "cell_type": "markdown",
   "id": "0b4b23e4",
   "metadata": {},
   "source": [
    "Answer:\n",
    "\n",
    " - 9%, 2.1%"
   ]
  },
  {
   "cell_type": "code",
   "execution_count": 161,
   "id": "f7406b73",
   "metadata": {},
   "outputs": [
    {
     "name": "stdout",
     "output_type": "stream",
     "text": [
      "Percentage of each category in the 'Style' variable:\n",
      "Casual      47.452547\n",
      "cute        19.780220\n",
      "Sexy        10.889111\n",
      "bohemian     5.894106\n",
      "Brief        3.996004\n",
      "party        2.997003\n",
      "sexy         1.998002\n",
      "work         1.998002\n",
      "vintage      1.998002\n",
      "Novelty      1.998002\n",
      "Flare        0.999001\n",
      "dtype: float64\n"
     ]
    }
   ],
   "source": [
    "# calculate the percentage of each categories in the 'Style' variable.\n",
    "style_counts = pd.Series({\n",
    "    'Casual': 47.5,\n",
    "    'cute': 19.8,\n",
    "    'Sexy': 10.9,\n",
    "    'bohemian': 5.9,\n",
    "    'Brief': 4.0,\n",
    "    'party': 3.0,\n",
    "    'sexy': 2.0,\n",
    "    'work': 2.0,\n",
    "    'vintage': 2.0,\n",
    "    'Novelty': 2.0,\n",
    "    'Flare': 1.0\n",
    "})\n",
    "\n",
    "# Calculate the percentage of each category\n",
    "style_percentages = (style_counts / style_counts.sum()) * 100\n",
    "\n",
    "# Display the result\n",
    "print(\"Percentage of each category in the 'Style' variable:\")\n",
    "print(style_percentages)"
   ]
  },
  {
   "cell_type": "code",
   "execution_count": 215,
   "id": "de6ae341",
   "metadata": {},
   "outputs": [
    {
     "name": "stdout",
     "output_type": "stream",
     "text": [
      "19.801980198019802\n",
      "80.19801980198021\n"
     ]
    }
   ],
   "source": [
    "# and you want to calculate the percentages for \"cute\" and \"Others\"\n",
    "\n",
    "# Calculate counts of each category in the 'Style' column\n",
    "style_counts = inp0['Style'].value_counts()\n",
    "\n",
    "# Calculate the percentage for \"cute\"\n",
    "percentage_cute = (style_counts['cute'] / style_counts.sum()) * 100\n",
    "\n",
    "# Calculate the percentage for \"Others\" (assuming \"Others\" includes all categories except \"cute\")\n",
    "percentage_others = (style_counts[style_counts.index != 'cute'].sum() / style_counts.sum()) * 100\n",
    "\n",
    "# Display the results\n",
    "print(percentage_cute)\n",
    "print(percentage_others)\n"
   ]
  },
  {
   "cell_type": "markdown",
   "id": "01f77220",
   "metadata": {},
   "source": [
    "Similarly Club Neckline, SLeeve length categories into \"Others\" which have less than 50000 sales across all the seasons."
   ]
  },
  {
   "cell_type": "code",
   "execution_count": 170,
   "id": "72b14a4f",
   "metadata": {},
   "outputs": [
    {
     "data": {
      "text/plain": [
       "3         o-neck\n",
       "4         o-neck\n",
       "7         v-neck\n",
       "9         o-neck\n",
       "27        o-neck\n",
       "         ...    \n",
       "468       o-neck\n",
       "470      bowneck\n",
       "473       o-neck\n",
       "477    boat-neck\n",
       "478       v-neck\n",
       "Name: NeckLine, Length: 101, dtype: object"
      ]
     },
     "execution_count": 170,
     "metadata": {},
     "output_type": "execute_result"
    }
   ],
   "source": [
    "# Group \"Neckline\" categories into \"Others\" which have less than 50000 sales across all the seasons.\n",
    "import warnings\n",
    "warnings.filterwarnings('ignore')\n",
    "\n",
    "inp0.NeckLine"
   ]
  },
  {
   "cell_type": "code",
   "execution_count": 189,
   "id": "cc665585",
   "metadata": {},
   "outputs": [
    {
     "name": "stdout",
     "output_type": "stream",
     "text": [
      "Total sales for each 'NeckLine' category:\n",
      "NeckLine\n",
      "Others      23402.0\n",
      "o-neck     276831.0\n",
      "ruffled     76553.0\n",
      "v-neck     105004.0\n",
      "Name: total, dtype: float64\n",
      "Modified 'inp0' DataFrame:\n"
     ]
    }
   ],
   "source": [
    "# inp0 is dataframe\n",
    "inp0['total'] = inp0[['Summer', 'Autumn', 'Winter', 'Spring']].sum(axis=1)\n",
    "\n",
    "# Calculate total sales for each NeckLine category\n",
    "neckline_totals = inp0.groupby('NeckLine')['total'].sum()\n",
    "\n",
    "# Identify NeckLine categories with less than 50000 total sales\n",
    "categories_to_group = neckline_totals[neckline_totals < 50000].index\n",
    "\n",
    "# Replace NeckLine categories with less than 50000 total sales with 'Others'\n",
    "inp0['NeckLine'] = np.where(inp0['NeckLine'].isin(categories_to_group), 'Others', inp0['NeckLine'])\n",
    "\n",
    "# Display the total sales for each 'NeckLine' category\n",
    "print(\"Total sales for each 'NeckLine' category:\")\n",
    "print(neckline_totals)\n",
    "\n",
    "# Display the modified 'inp0' DataFrame with 'NeckLine' grouped into 'Others'\n",
    "print(\"Modified 'inp0' DataFrame:\")"
   ]
  },
  {
   "cell_type": "code",
   "execution_count": 190,
   "id": "523a5573",
   "metadata": {},
   "outputs": [
    {
     "name": "stdout",
     "output_type": "stream",
     "text": [
      "Total sales for each 'Material' category:\n",
      "Material\n",
      "Others            38301.0\n",
      "chiffonfabric    141548.0\n",
      "cotton            61229.0\n",
      "mix               30472.0\n",
      "polyster         125824.0\n",
      "rayon             32843.0\n",
      "silk              51573.0\n",
      "Name: total, dtype: float64\n",
      "Modified 'inp0' DataFrame:\n"
     ]
    }
   ],
   "source": [
    "# Group \"material\" categories into \"Others\" which have less than 25000 sales across all the seasons.\n",
    "\n",
    "# Calculate total sales for each Material category\n",
    "material_totals = inp0.groupby('Material')['total'].sum()\n",
    "\n",
    "# Identify Material categories with less than 25000 total sales\n",
    "categories_to_group_material = material_totals[material_totals < 25000].index\n",
    "\n",
    "# Replace Material categories with less than 25000 total sales with 'Others'\n",
    "inp0['Material'] = np.where(inp0['Material'].isin(categories_to_group_material), 'Others', inp0['Material'])\n",
    "\n",
    "# Display the total sales for each 'Material' category\n",
    "print(\"Total sales for each 'Material' category:\")\n",
    "print(material_totals)\n",
    "\n",
    "# Display the modified 'inp0' DataFrame with 'Material' grouped into 'Others'\n",
    "print(\"Modified 'inp0' DataFrame:\")"
   ]
  },
  {
   "cell_type": "code",
   "execution_count": 191,
   "id": "cb209891",
   "metadata": {},
   "outputs": [
    {
     "name": "stdout",
     "output_type": "stream",
     "text": [
      "Total sales for each 'FabricType' category:\n",
      "FabricType\n",
      "Others         54999.0\n",
      "broadcloth     49858.0\n",
      "chiffon       349660.0\n",
      "worsted        27273.0\n",
      "Name: total, dtype: float64\n",
      "Modified 'inp0' DataFrame:\n"
     ]
    }
   ],
   "source": [
    "# Group \"fabric type\" categories into \"Others\" which have less than 25000 sales across all the seasons.\n",
    "\n",
    "# Calculate total sales for each FabricType category\n",
    "fabric_type_totals = inp0.groupby('FabricType')['total'].sum()\n",
    "\n",
    "# Identify FabricType categories with less than 25000 total sales\n",
    "categories_to_group_fabric_type = fabric_type_totals[fabric_type_totals < 25000].index\n",
    "\n",
    "\n",
    "# Replace FabricType categories with less than 25000 total sales with 'Others'\n",
    "inp0['FabricType'] = np.where(inp0['FabricType'].isin(categories_to_group_fabric_type), 'Others', inp0['FabricType'])\n",
    "\n",
    "# Display the total sales for each 'FabricType' category\n",
    "print(\"Total sales for each 'FabricType' category:\")\n",
    "print(fabric_type_totals)\n",
    "\n",
    "# Display the modified 'inp0' DataFrame with 'FabricType' grouped into 'Others'\n",
    "print(\"Modified 'inp0' DataFrame:\")"
   ]
  },
  {
   "cell_type": "code",
   "execution_count": 192,
   "id": "7626618b",
   "metadata": {},
   "outputs": [
    {
     "name": "stdout",
     "output_type": "stream",
     "text": [
      "Total sales for each 'Pattern Type' category:\n",
      "Pattern Type\n",
      "Others     47739.0\n",
      "dot       144729.0\n",
      "print      61684.0\n",
      "solid     227638.0\n",
      "Name: total, dtype: float64\n",
      "Modified 'inp0' DataFrame:\n"
     ]
    }
   ],
   "source": [
    "# Group \"patern type\" categories into \"Others\" which have less than 25000 sales across all the seasons.\n",
    "# Calculate total sales for each Pattern Type category\n",
    "pattern_type_totals = inp0.groupby('Pattern Type')['total'].sum()\n",
    "\n",
    "# Identify Pattern Type categories with less than 25000 total sales\n",
    "categories_to_group_pattern_type = pattern_type_totals[pattern_type_totals < 25000].index\n",
    "\n",
    "# Replace Pattern Type categories with less than 25000 total sales with 'Others'\n",
    "inp0['Pattern Type'] = np.where(inp0['Pattern Type'].isin(categories_to_group_pattern_type), 'Others', inp0['Pattern Type'])\n",
    "\n",
    "# Display the total sales for each 'Pattern Type' category\n",
    "print(\"Total sales for each 'Pattern Type' category:\")\n",
    "print(pattern_type_totals)\n",
    "\n",
    "# Display the modified 'inp0' DataFrame with 'Pattern Type' grouped into 'Others'\n",
    "print(\"Modified 'inp0' DataFrame:\")"
   ]
  },
  {
   "cell_type": "code",
   "execution_count": 193,
   "id": "85648a52",
   "metadata": {},
   "outputs": [
    {
     "name": "stdout",
     "output_type": "stream",
     "text": [
      "Total sales for each 'Decoration' category:\n",
      "Decoration\n",
      "Others       62599.0\n",
      "applique     35723.0\n",
      "beading      29669.0\n",
      "bow         140977.0\n",
      "lace         64869.0\n",
      "ruffles      62503.0\n",
      "sashes       85450.0\n",
      "Name: total, dtype: float64\n",
      "Modified 'inp0' DataFrame:\n"
     ]
    }
   ],
   "source": [
    "# Group \"decoration\" categories into \"Others\" which have less than 25000 sales across all the seasons.\n",
    "# Calculate total sales for each Decoration category\n",
    "decoration_totals = inp0.groupby('Decoration')['total'].sum()\n",
    "\n",
    "# Identify Decoration categories with less than 25000 total sales\n",
    "categories_to_group_decoration = decoration_totals[decoration_totals < 25000].index\n",
    "\n",
    "# Replace Decoration categories with less than 25000 total sales with 'Others'\n",
    "inp0['Decoration'] = np.where(inp0['Decoration'].isin(categories_to_group_decoration), 'Others', inp0['Decoration'])\n",
    "\n",
    "# Display the total sales for each 'Decoration' category\n",
    "print(\"Total sales for each 'Decoration' category:\")\n",
    "print(decoration_totals)\n",
    "\n",
    "# Display the modified 'inp0' DataFrame with 'Decoration' grouped into 'Others'\n",
    "print(\"Modified 'inp0' DataFrame:\")"
   ]
  },
  {
   "cell_type": "markdown",
   "id": "20ccb150",
   "metadata": {},
   "source": [
    "Caregorical Ordered Univariate Analysis\n",
    "\n",
    "\n",
    "Which of the following is an unordered variable in “Attribute DataSet”.\n",
    "\n",
    " - Style\n",
    " - Price\n",
    " - Season\n",
    " - Size\n",
    "\n",
    "  Numerical variable Univariate analysis"
   ]
  },
  {
   "cell_type": "markdown",
   "id": "ae75e4ef",
   "metadata": {},
   "source": [
    "What is the approximate difference between the maximum value and 75th percentile in “Autumn” column.\n",
    "\n",
    " - Approx 54000\n",
    " - Approx 55000\n",
    " - Approx 52000\n",
    " - Approx 50000"
   ]
  },
  {
   "cell_type": "code",
   "execution_count": 196,
   "id": "a321a477",
   "metadata": {},
   "outputs": [
    {
     "name": "stdout",
     "output_type": "stream",
     "text": [
      "count      101.000000\n",
      "mean      1442.267327\n",
      "std       2519.180597\n",
      "min         10.000000\n",
      "25%        199.000000\n",
      "50%        631.000000\n",
      "75%       1533.000000\n",
      "max      20369.000000\n",
      "Name: Autumn, dtype: float64\n"
     ]
    }
   ],
   "source": [
    "# Describe the numerical variale: \"Autumn\".\n",
    "\n",
    "autumn_description = inp0['Autumn'].describe()\n",
    "\n",
    "print(autumn_description)\n",
    "\n",
    "# describe mean statistical measures"
   ]
  },
  {
   "cell_type": "code",
   "execution_count": 199,
   "id": "5a1949ea",
   "metadata": {},
   "outputs": [
    {
     "data": {
      "text/plain": [
       "3      5438.0\n",
       "4      5863.0\n",
       "7        81.0\n",
       "9       264.0\n",
       "27     1546.0\n",
       "        ...  \n",
       "468    1853.0\n",
       "470      39.0\n",
       "473     800.0\n",
       "477     784.0\n",
       "478    1839.0\n",
       "Name: Autumn, Length: 101, dtype: float64"
      ]
     },
     "execution_count": 199,
     "metadata": {},
     "output_type": "execute_result"
    }
   ],
   "source": [
    "inp0.Autumn"
   ]
  },
  {
   "cell_type": "code",
   "execution_count": 200,
   "id": "8ed11e21",
   "metadata": {},
   "outputs": [
    {
     "data": {
      "image/png": "[encoded data removed]",
      "text/plain": [
       "<Figure size 800x600 with 1 Axes>"
      ]
     },
     "metadata": {},
     "output_type": "display_data"
    }
   ],
   "source": [
    "# plot the boxplot of \"Autumn\" column.\n",
    "\n",
    "\n",
    "# autumn is a numerical column in inp0\n",
    "\n",
    "plt.figure(figsize = (8 , 6))\n",
    "\n",
    "inp0['Autumn'].plot(kind = 'box')\n",
    "\n",
    "plt.title('Boxplt of Autumn Season')\n",
    "\n",
    "plt.show()"
   ]
  },
  {
   "cell_type": "markdown",
   "id": "51c39681",
   "metadata": {},
   "source": [
    "Which of the following season has the highest difference between the maximum value and 99th quantile of sales?\n",
    "\n",
    " - Winter\n",
    " - Summer\n",
    " - Spring\n",
    " - Autumn\n",
    " \n",
    "         - Answer:\n",
    "                 Autumn"
   ]
  },
  {
   "cell_type": "markdown",
   "id": "6fec9be1",
   "metadata": {},
   "source": [
    "A percentile is a measure used in statistics to indicate the relative standing of a particular value within a dataset. Percentiles provide information about the distribution of values and help identify the position of a specific value in comparison to others.\n",
    "\n",
    "\n",
    "Here's how percentiles work:\n",
    "\n",
    "Definition: A percentile is a specific percentage of data below a given value. For example, the 25th percentile (also known as the first quartile or Q1) represents the value below which 25% of the data falls.\n",
    "\n",
    "Calculation: To calculate a percentile, you first arrange the data in ascending order. Then, you determine the position of the desired percentile within the dataset.\n",
    "\n",
    "Common Percentiles:\n",
    "\n",
    "Median (50th Percentile): The middle value of a dataset. Half of the data falls below the median, and half falls above.\n",
    "Quartiles:\n",
    "First Quartile (Q1 - 25th Percentile): The value below which 25% of the data falls.\n",
    "Second Quartile (Q2 - 50th Percentile/Median): The value below which 50% of the data falls.\n",
    "Third Quartile (Q3 - 75th Percentile): The value below which 75% of the data falls.\n",
    "Use Cases:\n",
    "\n",
    "Percentiles are commonly used in various fields, such as education (standardized test scores), finance (income distribution), and healthcare (growth percentiles for children)."
   ]
  },
  {
   "cell_type": "code",
   "execution_count": 205,
   "id": "50f5243b",
   "metadata": {},
   "outputs": [
    {
     "name": "stdout",
     "output_type": "stream",
     "text": [
      "13233.0\n",
      "276.0\n"
     ]
    }
   ],
   "source": [
    "# Find the maximum and 50th percentile of Winter season.\n",
    "\n",
    "Winter_max = inp0['Winter'].max()\n",
    "\n",
    "Winter_median = inp0['Winter'].median()\n",
    "\n",
    "# Display the results\n",
    "print(Winter_max)\n",
    "print(Winter_median)"
   ]
  },
  {
   "cell_type": "code",
   "execution_count": 206,
   "id": "401643fd",
   "metadata": {},
   "outputs": [
    {
     "data": {
      "text/plain": [
       "3      7213\n",
       "4      7706\n",
       "7        68\n",
       "9       275\n",
       "27     2288\n",
       "       ... \n",
       "468    1836\n",
       "470      30\n",
       "473     737\n",
       "477     769\n",
       "478    1763\n",
       "Name: Summer, Length: 101, dtype: int64"
      ]
     },
     "execution_count": 206,
     "metadata": {},
     "output_type": "execute_result"
    }
   ],
   "source": [
    "inp0.Summer"
   ]
  },
  {
   "cell_type": "code",
   "execution_count": 207,
   "id": "867a7645",
   "metadata": {},
   "outputs": [
    {
     "data": {
      "text/plain": [
       "3      1455\n",
       "4      1396\n",
       "7        12\n",
       "9        49\n",
       "27      475\n",
       "       ... \n",
       "468     623\n",
       "470      10\n",
       "473     217\n",
       "477     254\n",
       "478     538\n",
       "Name: Spring, Length: 101, dtype: int64"
      ]
     },
     "execution_count": 207,
     "metadata": {},
     "output_type": "execute_result"
    }
   ],
   "source": [
    "inp0.Spring"
   ]
  },
  {
   "cell_type": "code",
   "execution_count": 208,
   "id": "fb54139e",
   "metadata": {},
   "outputs": [
    {
     "data": {
      "text/plain": [
       "3      5438.0\n",
       "4      5863.0\n",
       "7        81.0\n",
       "9       264.0\n",
       "27     1546.0\n",
       "        ...  \n",
       "468    1853.0\n",
       "470      39.0\n",
       "473     800.0\n",
       "477     784.0\n",
       "478    1839.0\n",
       "Name: Autumn, Length: 101, dtype: float64"
      ]
     },
     "execution_count": 208,
     "metadata": {},
     "output_type": "execute_result"
    }
   ],
   "source": [
    "inp0.Autumn"
   ]
  },
  {
   "cell_type": "code",
   "execution_count": 209,
   "id": "1b8a6eb2",
   "metadata": {},
   "outputs": [
    {
     "name": "stdout",
     "output_type": "stream",
     "text": [
      "35577\n",
      "618.0\n"
     ]
    }
   ],
   "source": [
    "# Find the maximum and 50th percentile of Summer season.\n",
    "\n",
    "Summer_max = inp0['Summer'].max()\n",
    "\n",
    "Summer_median = inp0['Summer'].median()\n",
    "\n",
    "# Display the results\n",
    "print(Summer_max)\n",
    "print(Summer_median)"
   ]
  },
  {
   "cell_type": "code",
   "execution_count": 210,
   "id": "77d1fa93",
   "metadata": {},
   "outputs": [
    {
     "name": "stdout",
     "output_type": "stream",
     "text": [
      "7374\n",
      "132.0\n"
     ]
    }
   ],
   "source": [
    "# Find the maximum and 50th percentile of Spring season.\n",
    "\n",
    "Spring_max = inp0['Spring'].max()\n",
    "\n",
    "Spring_median = inp0['Spring'].median()\n",
    "\n",
    "# Display the results\n",
    "print(Spring_max)\n",
    "print(Spring_median)"
   ]
  },
  {
   "cell_type": "code",
   "execution_count": 211,
   "id": "09103ee2",
   "metadata": {},
   "outputs": [
    {
     "name": "stdout",
     "output_type": "stream",
     "text": [
      "20369.0\n",
      "631.0\n"
     ]
    }
   ],
   "source": [
    "# Find the maximum and 50th percentile of Autumn season.\n",
    "\n",
    "Autumn_max = inp0['Autumn'].max()\n",
    "\n",
    "Autumn_median = inp0['Autumn'].median()\n",
    "\n",
    "# Display the results\n",
    "print(Autumn_max)\n",
    "print(Autumn_median)"
   ]
  }
 ],
 "metadata": {
  "kernelspec": {
   "display_name": "Python 3 (ipykernel)",
   "language": "python",
   "name": "python3"
  },
  "language_info": {
   "codemirror_mode": {
    "name": "ipython",
    "version": 3
   },
   "file_extension": ".py",
   "mimetype": "text/x-python",
   "name": "python",
   "nbconvert_exporter": "python",
   "pygments_lexer": "ipython3",
   "version": "3.10.9"
  }
 },
 "nbformat": 4,
 "nbformat_minor": 5
}
